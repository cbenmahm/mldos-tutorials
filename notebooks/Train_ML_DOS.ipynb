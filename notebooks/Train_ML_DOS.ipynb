{
 "cells": [
  {
   "cell_type": "code",
   "execution_count": 1,
   "id": "d6e78c00",
   "metadata": {
    "ExecuteTime": {
     "end_time": "2022-09-01T18:31:58.856315Z",
     "start_time": "2022-09-01T18:31:58.825307Z"
    }
   },
   "outputs": [],
   "source": [
    "%load_ext autoreload\n",
    "%autoreload 2"
   ]
  },
  {
   "cell_type": "markdown",
   "id": "f1c5214d",
   "metadata": {},
   "source": [
    "**Scope of this notebook**\n",
    "\n",
    "This notebook provides the general workflow to train and validate an ML DOS model in silicon dataset based on sparse Gaussian process regression, as described in Ben Mahmoud et al. (PRB 2020). We show how to build models for the 3 representations of the DOS: \n",
    "* pointwise (PW)\n",
    "* PC decomposition (PC) \n",
    "* cumulative distribution function (CDF). \n",
    "\n",
    "The second part deals with the derived quantities from the DOS, like the band energy, Fermi energy (or chemical potential), the value of the DOS at the Fermi energy, and the excitation distribution. We also show how to obtain the \"local charges\" from the local DOS.\n",
    "\n",
    "\n",
    "*NB: All the helper functions can be examined in the ``utils`` folder.*"
   ]
  },
  {
   "cell_type": "markdown",
   "id": "fa2bee91",
   "metadata": {},
   "source": [
    "Before we start we go through a **few necessary defintions**\n",
    "\n",
    "1. *What is the electronic density of states (DOS)?* We place ourselves within the quasi-particle description of the electron system (like in density functional theory DFT), and describe the DOS as the sum of the single-particle eigenenergies describing the the energy levels $E_n(\\mathbf{k})$ that are accessible to the electrons at each point **k** of the Brioullin zone:\n",
    "$$\\mathrm{DOS}(E) = \\frac{2}{N_k} \\sum_n^{bands} \\sum_\\mathbf{k} \\delta(E-E_n(\\mathbf{k}))$$\n",
    "We assume that energy levels are spin-degenerate.\n",
    "In practise we replace the $\\delta$ function by a Gaussian broadening function of a width $g_b$\n",
    "<br></br>\n",
    "1. *What is the ML DOS model?* We use an atom-centred model for the DOS($A$, $E$), where we decompose the global DOS of a structure $A$ into LDOS contributions from its different atomic environemnts :\n",
    "$$\\mathrm{DOS}(A, E) = \\sum_{A_i \\in A} \\mathrm{LDOS}(A_i, E)$$\n",
    "To make notation slightly easier to follow, we drop the $A$ from the expressions. Along this notebook we discuss the 3 strategy that we employ to model this quantity using kernels models."
   ]
  },
  {
   "cell_type": "code",
   "execution_count": 4,
   "id": "b402bff1",
   "metadata": {
    "ExecuteTime": {
     "end_time": "2022-09-01T18:32:29.585912Z",
     "start_time": "2022-09-01T18:32:29.550025Z"
    }
   },
   "outputs": [],
   "source": [
    "import numpy as np\n",
    "import matplotlib.pyplot as plt\n",
    "import ase\n",
    "import ase.io as ase_io\n",
    "\n",
    "from tqdm.notebook import tqdm, tnrange\n",
    "\n",
    "import rascal\n",
    "from rascal.models import Kernel, KRR, compute_KNM\n",
    "from rascal.representations import SphericalInvariants\n",
    "from rascal.utils import dump_obj, load_obj, FPSFilter\n",
    "\n",
    "from utils import *\n",
    "\n",
    "from time import time"
   ]
  },
  {
   "cell_type": "markdown",
   "id": "cdcc2df1",
   "metadata": {},
   "source": [
    "# loading data"
   ]
  },
  {
   "cell_type": "code",
   "execution_count": 5,
   "id": "19cf9b6d",
   "metadata": {
    "ExecuteTime": {
     "end_time": "2022-09-01T18:32:30.922904Z",
     "start_time": "2022-09-01T18:32:30.609825Z"
    }
   },
   "outputs": [],
   "source": [
    "# loading the training frames\n",
    "frames = ase_io.read(\"../data/traininig_dataset.xyz\", \":\")\n",
    "\n",
    "# get the total number of structures\n",
    "ntot = len(frames)"
   ]
  },
  {
   "cell_type": "code",
   "execution_count": 6,
   "id": "0d415ccd",
   "metadata": {
    "ExecuteTime": {
     "end_time": "2022-09-01T18:32:31.146573Z",
     "start_time": "2022-09-01T18:32:31.020511Z"
    }
   },
   "outputs": [],
   "source": [
    "for frame in frames:\n",
    "    frame.wrap(eps=1e-12)"
   ]
  },
  {
   "cell_type": "code",
   "execution_count": 7,
   "id": "02efa663",
   "metadata": {
    "ExecuteTime": {
     "end_time": "2022-09-01T18:32:31.402121Z",
     "start_time": "2022-09-01T18:32:31.356474Z"
    }
   },
   "outputs": [],
   "source": [
    "# get the number of atoms in each structure\n",
    "natoms = np.zeros(ntot, dtype=int)\n",
    "for i in range(ntot):\n",
    "    natoms[i] = len(frames[i])"
   ]
  },
  {
   "cell_type": "markdown",
   "id": "d4ae8155",
   "metadata": {},
   "source": [
    "Details about the DFT calculation on the dataset can be found on the PRB 2020 paper, and in the published dataset file on ``materialscloud``. Here we grouped the eigenenergies in a single json file so it can be loaded easily in a human readable format.\n",
    "\n",
    "*NB: as a general rule, the DOS requires a denser k-point grid to obtain a converged quantity than the total energy or the forces for example. Also, the k-point density should be the same for all the structures in the training set*"
   ]
  },
  {
   "cell_type": "code",
   "execution_count": null,
   "id": "4ffb9069",
   "metadata": {
    "ExecuteTime": {
     "end_time": "2022-09-01T18:32:33.605075Z",
     "start_time": "2022-09-01T18:32:31.953412Z"
    }
   },
   "outputs": [],
   "source": [
    "# load eigenenergies\n",
    "with open(\"../data/train_energies.json\") as f:\n",
    "    eigen_energies = json.load(f)\n",
    "print(eigen_energies[\"info\"])"
   ]
  },
  {
   "cell_type": "code",
   "execution_count": 9,
   "id": "66eee7f7",
   "metadata": {
    "ExecuteTime": {
     "end_time": "2022-09-01T18:32:34.192443Z",
     "start_time": "2022-09-01T18:32:33.606635Z"
    }
   },
   "outputs": [],
   "source": [
    "# unpack eigenenergies\n",
    "energies = []\n",
    "for i in range(ntot):\n",
    "    dd = []\n",
    "    tmp = eigen_energies[\"%d\"%i][\"kpoints\"]\n",
    "    for key in tmp.keys():\n",
    "        dd.append(tmp[key])\n",
    "    energies.append(np.array(dd))"
   ]
  },
  {
   "cell_type": "code",
   "execution_count": 10,
   "id": "63ca5854",
   "metadata": {
    "ExecuteTime": {
     "end_time": "2022-09-01T18:32:34.273758Z",
     "start_time": "2022-09-01T18:32:34.193301Z"
    }
   },
   "outputs": [],
   "source": [
    "# determine the minimum and maximum energies\n",
    "emin = np.min(np.array([np.min(energies[i]) for i in range(len(energies))]))\n",
    "emax = np.max(np.array([np.max(energies[i]) for i in range(len(energies))]))"
   ]
  },
  {
   "cell_type": "code",
   "execution_count": 11,
   "id": "adb051a9",
   "metadata": {
    "ExecuteTime": {
     "end_time": "2022-09-01T18:32:34.288773Z",
     "start_time": "2022-09-01T18:32:34.275175Z"
    }
   },
   "outputs": [
    {
     "name": "stdout",
     "output_type": "stream",
     "text": [
      "Emin = -24.554eV\n",
      "Emax = 11.346eV\n"
     ]
    }
   ],
   "source": [
    "print(\"Emin = {:.3f}eV\\nEmax = {:.3f}eV\".format(emin, emax))"
   ]
  },
  {
   "cell_type": "code",
   "execution_count": 12,
   "id": "da059139",
   "metadata": {
    "ExecuteTime": {
     "end_time": "2022-09-01T18:32:34.302326Z",
     "start_time": "2022-09-01T18:32:34.289453Z"
    }
   },
   "outputs": [],
   "source": [
    "# choosing the DOS Gaussian boroadening and energy grid spacing\n",
    "gb = 0.3 #eV\n",
    "dE = 0.05 #eV"
   ]
  },
  {
   "cell_type": "markdown",
   "id": "363e5b85",
   "metadata": {},
   "source": [
    "The ``build_dos`` function builds a DOS that is normalized by the number of atoms in the each structure."
   ]
  },
  {
   "cell_type": "code",
   "execution_count": 13,
   "id": "9175da1e",
   "metadata": {
    "ExecuteTime": {
     "end_time": "2022-09-01T18:34:05.391191Z",
     "start_time": "2022-09-01T18:32:34.303121Z"
    }
   },
   "outputs": [],
   "source": [
    "# build the DOS of the dataset\n",
    "xdos, ldos = build_dos(gb, energies, dE, emin, emax, natoms)"
   ]
  },
  {
   "cell_type": "markdown",
   "id": "7ebd88a0",
   "metadata": {},
   "source": [
    "We explicitely account for the spin-degeneracy because we the output of FHI-aims does not provide duplicated eigenenergies."
   ]
  },
  {
   "cell_type": "code",
   "execution_count": 14,
   "id": "02d7031a",
   "metadata": {
    "ExecuteTime": {
     "end_time": "2022-09-01T18:34:05.405817Z",
     "start_time": "2022-09-01T18:34:05.392654Z"
    }
   },
   "outputs": [],
   "source": [
    "ldos *= 2."
   ]
  },
  {
   "cell_type": "code",
   "execution_count": 15,
   "id": "2914045d",
   "metadata": {
    "ExecuteTime": {
     "end_time": "2022-09-01T18:34:05.419846Z",
     "start_time": "2022-09-01T18:34:05.406593Z"
    }
   },
   "outputs": [],
   "source": [
    "# compute the mean DOS on the training set\n",
    "mean_dos_per_atom = ldos.mean(axis=0)"
   ]
  },
  {
   "cell_type": "markdown",
   "id": "1af7fe6a",
   "metadata": {},
   "source": [
    "# Build the model"
   ]
  },
  {
   "cell_type": "code",
   "execution_count": 16,
   "id": "411a9220",
   "metadata": {
    "ExecuteTime": {
     "end_time": "2022-09-01T18:34:05.434349Z",
     "start_time": "2022-09-01T18:34:05.420605Z"
    }
   },
   "outputs": [
    {
     "name": "stdout",
     "output_type": "stream",
     "text": [
      "number of training structures = 831\n"
     ]
    }
   ],
   "source": [
    "# train/test splits: we use 80/20\n",
    "np.random.seed(0) \n",
    "ntrain = int(0.8 * ntot) \n",
    "itrain = np.arange(ntot) \n",
    "np.random.shuffle(itrain) \n",
    "itest = itrain[ntrain:] \n",
    "itrain = itrain[:ntrain] \n",
    "print(\"number of training structures = {}\".format(ntrain))"
   ]
  },
  {
   "cell_type": "markdown",
   "id": "6b04932a",
   "metadata": {},
   "source": [
    "We use ``librascal`` to handle the atomic representation generation. These hyperparamters were optimised for the binding energy of silicon in the dataset. "
   ]
  },
  {
   "cell_type": "code",
   "execution_count": 17,
   "id": "8f65d0c3",
   "metadata": {
    "ExecuteTime": {
     "end_time": "2022-09-01T18:34:05.451652Z",
     "start_time": "2022-09-01T18:34:05.435215Z"
    }
   },
   "outputs": [],
   "source": [
    "# SOAP hypers\n",
    "HYPERS = {\n",
    "    'soap_type': 'PowerSpectrum',\n",
    "    'interaction_cutoff': 4.,\n",
    "    'max_radial': 8,\n",
    "    'max_angular': 6,\n",
    "    'gaussian_sigma_constant': 0.45,\n",
    "    'gaussian_sigma_type': 'Constant',\n",
    "    'cutoff_smooth_width': 0.5,\n",
    "    'radial_basis': 'GTO',\n",
    "    'normalize' : True,\n",
    "    'cutoff_function_type': 'RadialScaling',\n",
    "    'cutoff_function_parameters': {'rate': 1,\n",
    "        'scale': 3.,\n",
    "        'exponent': 5,\n",
    "        'interaction_cutoff': 4.,\n",
    "        'cutoff_smooth_width': 0.5},\n",
    "}\n",
    "soap = SphericalInvariants(**HYPERS)"
   ]
  },
  {
   "cell_type": "code",
   "execution_count": 18,
   "id": "d4f94fe4",
   "metadata": {
    "ExecuteTime": {
     "end_time": "2022-09-01T18:34:06.177445Z",
     "start_time": "2022-09-01T18:34:05.452428Z"
    }
   },
   "outputs": [
    {
     "name": "stdout",
     "output_type": "stream",
     "text": [
      "Execution:  0.711082935333252 s\n"
     ]
    }
   ],
   "source": [
    "# perpare the SOAP representation for the structures in the training set\n",
    "## this part can be slow\n",
    "start = time()\n",
    "managers = soap.transform(frames)\n",
    "print (\"Execution: \", time()-start, \"s\")"
   ]
  },
  {
   "cell_type": "markdown",
   "id": "d07486f3",
   "metadata": {},
   "source": [
    "**A few words about the sparse GPR used here**\n",
    "\n",
    "To build all the ML models in this notebook, we use the sparse GPR as the ML algorithm of choice. We need to select the ``nref`` atomic environments that we will use to define the basis on which we expand the LDOS:\n",
    "$$\\mathrm{LDOS}(A_i, E) = \\sum_{j}^{\\text{nref}} x_j(E) k(A_i, M_j),$$\n",
    "where where $k(A_i, M_j)$ is a positive-definite kernel basis function that expresses the similarity between the environment $A_i$ and an environment from the active set $M_j$. The active set is selected according to the furthest point sampling (FPS) algorithm.\n",
    "\n",
    "The kernel function $k(A_i, M_j)$ that we use here is defined as a dot product between the two SOAP vectors with a certain exponent ``zeta``, usually taken to be ``2``. The ``Kernel`` module of ``librascal`` handles building the vector of kernels of each structures as the sum of the kernels of the local atomic environments. We refer to this object as $K_{NM}$\n",
    "\n",
    "In the previous expression, we need to determine the matrix of weights $\\mathbf{x}(E)$. It is given by the following expression:\n",
    "$$ \\mathbf{x}(E) = (\\lambda^2 K_{MM} + K_{NM}^TK_{NM})^{-1} K_{NM}^T \\mathbf{y}(E),$$\n",
    "where $\\lambda$ is the regularization parameter that we need to optimize, $K_{MM}$ is the kernel matrix of the active set, and $\\mathbf{y}(E)$ is a vector containing the DOS(E) of all the structures in the training set at the energy grid $E$.\n",
    "\n",
    "Once the model is trained, the ML DOS of any structure is simply the dot product between the weights matrix and the kernel vector:\n",
    "$$\\mathrm{DOS}(E) = \\mathbf{x}(E) k(A, M)$$"
   ]
  },
  {
   "cell_type": "code",
   "execution_count": 19,
   "id": "e1e90a3d",
   "metadata": {
    "ExecuteTime": {
     "end_time": "2022-09-01T18:34:07.721756Z",
     "start_time": "2022-09-01T18:34:06.178266Z"
    }
   },
   "outputs": [],
   "source": [
    "# get the sparse environments\n",
    "## this part can be slow depending on nref\n",
    "\n",
    "nref = 1000\n",
    "n_sparse = {14: nref}\n",
    "compressor = FPSFilter(soap, n_sparse, act_on='sample per species')\n",
    "X_sparse = compressor.select_and_filter(managers)"
   ]
  },
  {
   "cell_type": "code",
   "execution_count": 20,
   "id": "5aae856e",
   "metadata": {
    "ExecuteTime": {
     "end_time": "2022-09-01T18:34:07.775044Z",
     "start_time": "2022-09-01T18:34:07.741586Z"
    }
   },
   "outputs": [],
   "source": [
    "# define a kernel\n",
    "zeta = 2 # exponent of the kernel\n",
    "kernel = Kernel(soap,\n",
    "                name=\"GAP\",\n",
    "                kernel_type=\"Sparse\",\n",
    "                target_type=\"Structure\",\n",
    "                zeta=zeta)"
   ]
  },
  {
   "cell_type": "code",
   "execution_count": 21,
   "id": "9080aada",
   "metadata": {
    "ExecuteTime": {
     "end_time": "2022-09-01T18:34:09.827838Z",
     "start_time": "2022-09-01T18:34:07.778131Z"
    }
   },
   "outputs": [],
   "source": [
    "# get the kNM\n",
    "kNM = kernel(managers, X_sparse, grad=(False, False))"
   ]
  },
  {
   "cell_type": "code",
   "execution_count": 22,
   "id": "fe3c15e6",
   "metadata": {
    "ExecuteTime": {
     "end_time": "2022-09-01T18:34:09.859153Z",
     "start_time": "2022-09-01T18:34:09.828830Z"
    }
   },
   "outputs": [],
   "source": [
    "# get kMM\n",
    "kMM = kernel(X_sparse)"
   ]
  },
  {
   "cell_type": "markdown",
   "id": "646c8693",
   "metadata": {},
   "source": [
    "The ``Kernel`` modele builds kernels that are not normalized by the number of the atoms in each structures, which may create problems with normalized DOS. Two rational choices appear here:\n",
    "1. scale the DOS by the number of atoms\n",
    "1. normalize $K_{NM}$ by the number of atoms"
   ]
  },
  {
   "cell_type": "code",
   "execution_count": 23,
   "id": "55d30d14",
   "metadata": {
    "ExecuteTime": {
     "end_time": "2022-09-01T18:34:09.876093Z",
     "start_time": "2022-09-01T18:34:09.859971Z"
    }
   },
   "outputs": [],
   "source": [
    "## scale the DOS with the number of atoms\n",
    "\n",
    "scale_dos = True #set to True for the first strategy and False for the second\n",
    "\n",
    "if scale_dos:\n",
    "    for j in range(ntot):\n",
    "        ldos[j] *= natoms[j]\n",
    "    scaling_mean = natoms\n",
    "\n",
    "else:\n",
    "    for j in range(ntot):\n",
    "        kNM[j] /= natoms[j]\n",
    "    scaling_mean = np.ones(len(ldos))"
   ]
  },
  {
   "cell_type": "markdown",
   "id": "05b66d3a",
   "metadata": {},
   "source": [
    "# PW model"
   ]
  },
  {
   "cell_type": "markdown",
   "id": "5204264a",
   "metadata": {},
   "source": [
    "In the pointwise (PW) represenatation we propose to build model for the discretized DOS as built earlier in the notebook. Building a different sparse GPR model for each energy channel $E$ results in choosing different regularization values. This strategy may lead to obtaining a non-smooth ML DOS. This is why we opt to have a single value for $\\lambda$ for all the energy channels, ensuring that the ML DOS is continuous. By examining the expression for the predicted DOS, we notice that the only quantity that may break the smoothness condition is $\\lambda$.\n",
    "\n",
    "The optimization process to find $\\lambda$ uses n-fold cross validation (CV). For this particualr dataset, 2-fold CV is enough to find the optimal $\\lambda$."
   ]
  },
  {
   "cell_type": "code",
   "execution_count": 24,
   "id": "c33da51d",
   "metadata": {
    "ExecuteTime": {
     "end_time": "2022-09-01T18:34:09.890279Z",
     "start_time": "2022-09-01T18:34:09.877010Z"
    }
   },
   "outputs": [],
   "source": [
    "# N-fold cross-validation\n",
    "cv = 2 # number of folds"
   ]
  },
  {
   "cell_type": "markdown",
   "id": "2cd2a09c",
   "metadata": {},
   "source": [
    "Usually, we remove the mean of the training set from the targets, but this step is not necessary if we opt the point of view of the kernel ridge regression."
   ]
  },
  {
   "cell_type": "code",
   "execution_count": 25,
   "id": "1c4a6a96",
   "metadata": {
    "ExecuteTime": {
     "end_time": "2022-09-01T18:34:09.907519Z",
     "start_time": "2022-09-01T18:34:09.891117Z"
    }
   },
   "outputs": [],
   "source": [
    "mean_pw = np.zeros(ldos.shape)\n",
    "for j in range(len(mean_pw)):\n",
    "    mean_pw[j] = mean_dos_per_atom * scaling_mean[j]\n",
    "train_target = ldos - mean_pw"
   ]
  },
  {
   "cell_type": "markdown",
   "id": "45312dfb",
   "metadata": {},
   "source": [
    "Optimization step and obtainment of the weights matrix."
   ]
  },
  {
   "cell_type": "code",
   "execution_count": 26,
   "id": "2e79c2ad",
   "metadata": {
    "ExecuteTime": {
     "end_time": "2022-09-01T18:34:25.814254Z",
     "start_time": "2022-09-01T18:34:09.908486Z"
    }
   },
   "outputs": [
    {
     "name": "stdout",
     "output_type": "stream",
     "text": [
      " final_simplex: (array([[-22.27751077],\n",
      "       [-22.26132072]]), array([15.93451912, 15.93460084]))\n",
      "           fun: 15.93451911910552\n",
      "       message: 'Maximum number of iterations has been exceeded.'\n",
      "          nfev: 20\n",
      "           nit: 8\n",
      "        status: 2\n",
      "       success: False\n",
      "             x: array([-22.27751077])\n",
      "2.1134890398366395e-10\n",
      "(831, 778)\n"
     ]
    }
   ],
   "source": [
    "weights_pw = train_model(train_target[itrain], \n",
    "                      kNM[itrain], \n",
    "                      kMM, \n",
    "                      cv=2, \n",
    "                      xdos=xdos, \n",
    "                      maxiter=8, \n",
    "                      i_regularization=1e-9)"
   ]
  },
  {
   "cell_type": "markdown",
   "id": "5b87debb",
   "metadata": {},
   "source": [
    "## Validation of the model"
   ]
  },
  {
   "cell_type": "code",
   "execution_count": 27,
   "id": "ec16cbad",
   "metadata": {
    "ExecuteTime": {
     "end_time": "2022-09-01T18:34:25.880546Z",
     "start_time": "2022-09-01T18:34:25.822269Z"
    }
   },
   "outputs": [],
   "source": [
    "# build the predicted ML DOS\n",
    "ldos_pred_pw = kNM @ weights_pw + mean_pw"
   ]
  },
  {
   "cell_type": "code",
   "execution_count": 28,
   "id": "c8f3c729",
   "metadata": {
    "ExecuteTime": {
     "end_time": "2022-09-01T18:34:26.013662Z",
     "start_time": "2022-09-01T18:34:25.886287Z"
    }
   },
   "outputs": [
    {
     "data": {
      "image/png": "[encoded data removed]",
      "text/plain": [
       "<Figure size 432x288 with 1 Axes>"
      ]
     },
     "metadata": {
      "needs_background": "light"
     },
     "output_type": "display_data"
    }
   ],
   "source": [
    "ii = itest[-1]\n",
    "\n",
    "plt.plot(xdos, ldos[ii], label=\"QM\")\n",
    "plt.plot(xdos, ldos_pred_pw[ii], \"k:\", label=\"ML from PW\")\n",
    "\n",
    "plt.xlabel(\"energy (eV)\")\n",
    "plt.ylabel(\"DOS\")\n",
    "\n",
    "plt.legend()\n",
    "plt.show()"
   ]
  },
  {
   "cell_type": "code",
   "execution_count": 29,
   "id": "89da5085",
   "metadata": {
    "ExecuteTime": {
     "end_time": "2022-09-01T18:34:26.082759Z",
     "start_time": "2022-09-01T18:34:26.035221Z"
    }
   },
   "outputs": [
    {
     "name": "stdout",
     "output_type": "stream",
     "text": [
      "errors of the CDF representation\n",
      "\n",
      "RMSE = 1.902 (1/eV)\n",
      "%RMSE = 3.828%\n"
     ]
    }
   ],
   "source": [
    "print(\"errors of the CDF representation\")\n",
    "print()\n",
    "print(\"RMSE = {:.3f} (1/eV)\".format(get_rmse(ldos_pred_pw[itest], ldos[itest], xdos, perc=False)))\n",
    "print(\"%RMSE = {:.3f}%\".format(get_rmse(ldos_pred_pw[itest], ldos[itest], xdos, perc=True)))"
   ]
  },
  {
   "cell_type": "markdown",
   "id": "b0028fc7",
   "metadata": {},
   "source": [
    "# CDF model"
   ]
  },
  {
   "cell_type": "markdown",
   "id": "bcdaf02f",
   "metadata": {},
   "source": [
    "We define the cumulative distribution function (CDF) of the DOS as:\n",
    "$$\\mathrm{CDF}{E} = \\int^E \\mathrm{DOS}(\\epsilon) \\mathrm{d}\\epsilon$$\n",
    "By learning the CDF first and then computing its derivative (using the central formula for the first derivative to get the DOS), we \"teach\" the ML model that adjacent points on the energy grid are NOT independent.\n",
    "\n",
    "We propose to build the same sparse GPR models as the PW representation. "
   ]
  },
  {
   "cell_type": "code",
   "execution_count": 42,
   "id": "413e8cde",
   "metadata": {
    "ExecuteTime": {
     "end_time": "2022-09-01T17:23:08.969392Z",
     "start_time": "2022-09-01T17:23:08.922177Z"
    }
   },
   "outputs": [],
   "source": [
    "lcdf = ldos.cumsum(axis=1)"
   ]
  },
  {
   "cell_type": "code",
   "execution_count": 43,
   "id": "a66add65",
   "metadata": {
    "ExecuteTime": {
     "end_time": "2022-09-01T17:23:09.365469Z",
     "start_time": "2022-09-01T17:23:09.330926Z"
    }
   },
   "outputs": [],
   "source": [
    "# N-fold cross-validation\n",
    "cv = 2 # number of folds"
   ]
  },
  {
   "cell_type": "code",
   "execution_count": 46,
   "id": "0a3d4be6",
   "metadata": {
    "ExecuteTime": {
     "end_time": "2022-09-01T17:23:32.437846Z",
     "start_time": "2022-09-01T17:23:32.406898Z"
    }
   },
   "outputs": [],
   "source": [
    "mean_cdf = np.zeros(ldos.shape)\n",
    "for j in range(len(mean_cdf)):\n",
    "    mean_cdf[j] = mean_dos_per_atom.cumsum() * scaling_mean[j]\n",
    "train_target = lcdf - mean_cdf"
   ]
  },
  {
   "cell_type": "code",
   "execution_count": 47,
   "id": "f889380d",
   "metadata": {
    "ExecuteTime": {
     "end_time": "2022-09-01T17:23:57.759832Z",
     "start_time": "2022-09-01T17:23:33.182763Z"
    }
   },
   "outputs": [
    {
     "name": "stdout",
     "output_type": "stream",
     "text": [
      " final_simplex: (array([[-4.72029944],\n",
      "       [-4.60517019]]), array([4.57918303, 4.57992677]))\n",
      "           fun: 4.5791830267468265\n",
      "       message: 'Maximum number of iterations has been exceeded.'\n",
      "          nfev: 16\n",
      "           nit: 8\n",
      "        status: 2\n",
      "       success: False\n",
      "             x: array([-4.72029944])\n",
      "0.008912509381337464\n",
      "(831, 778)\n"
     ]
    }
   ],
   "source": [
    "weights_cdf = train_model(train_target[itrain], \n",
    "                      kNM[itrain], \n",
    "                      kMM, \n",
    "                      cv=2, \n",
    "                      xdos=xdos, \n",
    "                      maxiter=8, \n",
    "                      i_regularization=1e-1)"
   ]
  },
  {
   "cell_type": "markdown",
   "id": "aad39036",
   "metadata": {},
   "source": [
    "## Validation of the model"
   ]
  },
  {
   "cell_type": "code",
   "execution_count": 48,
   "id": "5024ea59",
   "metadata": {
    "ExecuteTime": {
     "end_time": "2022-09-01T17:24:11.619736Z",
     "start_time": "2022-09-01T17:24:11.535007Z"
    }
   },
   "outputs": [],
   "source": [
    "lcdf_pred = kNM @ weights_cdf + mean_cdf"
   ]
  },
  {
   "cell_type": "code",
   "execution_count": 49,
   "id": "6c01e2ae",
   "metadata": {
    "ExecuteTime": {
     "end_time": "2022-09-01T17:24:11.982917Z",
     "start_time": "2022-09-01T17:24:11.915950Z"
    }
   },
   "outputs": [
    {
     "data": {
      "image/png": "[encoded data removed]",
      "text/plain": [
       "<Figure size 432x288 with 1 Axes>"
      ]
     },
     "metadata": {
      "needs_background": "light"
     },
     "output_type": "display_data"
    }
   ],
   "source": [
    "ii = itest[0]\n",
    "\n",
    "plt.plot(xdos, lcdf[ii], label=\"QM CDF\")\n",
    "plt.plot(xdos, lcdf[ii], \"k:\", label=\"ML CDF\")\n",
    "\n",
    "plt.xlabel(\"energy (eV)\")\n",
    "plt.ylabel(\"IDOS\")\n",
    "\n",
    "plt.legend()\n",
    "plt.show()"
   ]
  },
  {
   "cell_type": "code",
   "execution_count": 54,
   "id": "123d6985",
   "metadata": {
    "ExecuteTime": {
     "end_time": "2022-09-01T17:24:37.122666Z",
     "start_time": "2022-09-01T17:24:37.080943Z"
    }
   },
   "outputs": [
    {
     "name": "stdout",
     "output_type": "stream",
     "text": [
      "errors in the CDF\n",
      "\n",
      "RMSE = 22.822\n",
      "%RMSE = 0.146%\n"
     ]
    }
   ],
   "source": [
    "print(\"errors in the CDF\")\n",
    "print()\n",
    "print(\"RMSE = {:.3f}\".format(get_rmse(lcdf_pred, lcdf, xdos, perc=False)))\n",
    "print(\"%RMSE = {:.3f}%\".format(get_rmse(lcdf_pred, lcdf, xdos, perc=True)))"
   ]
  },
  {
   "cell_type": "code",
   "execution_count": 51,
   "id": "e7871f7d",
   "metadata": {
    "ExecuteTime": {
     "end_time": "2022-09-01T17:24:13.129839Z",
     "start_time": "2022-09-01T17:24:13.048376Z"
    }
   },
   "outputs": [],
   "source": [
    "## get the central derivative\n",
    "pred = (lcdf_pred[:, 2:] - lcdf_pred[:, :-2]) / 2.\n",
    "\n",
    "## add zeros to the beginning and the end of every predicted DOS\n",
    "ldos_pred_cdf = []\n",
    "for x in pred:\n",
    "    y = [0] + x.tolist() + [0]\n",
    "    ldos_pred_cdf.append(y)\n",
    "ldos_pred_cdf = np.array(ldos_pred_cdf)"
   ]
  },
  {
   "cell_type": "code",
   "execution_count": 52,
   "id": "75c9b532",
   "metadata": {
    "ExecuteTime": {
     "end_time": "2022-09-01T17:24:13.721127Z",
     "start_time": "2022-09-01T17:24:13.630821Z"
    }
   },
   "outputs": [
    {
     "data": {
      "image/png": "[encoded data removed]",
      "text/plain": [
       "<Figure size 432x288 with 1 Axes>"
      ]
     },
     "metadata": {
      "needs_background": "light"
     },
     "output_type": "display_data"
    }
   ],
   "source": [
    "ii = itest[1]\n",
    "plt.plot(xdos, ldos[ii], label=\"QM\")\n",
    "plt.plot(xdos, ldos_pred_cdf[ii], \"k:\", label=\"ML from CDF\")\n",
    "\n",
    "plt.xlabel(\"energy (eV)\")\n",
    "plt.ylabel(\"DOS\")\n",
    "\n",
    "plt.legend()\n",
    "plt.show()"
   ]
  },
  {
   "cell_type": "code",
   "execution_count": 56,
   "id": "0685f38c",
   "metadata": {
    "ExecuteTime": {
     "end_time": "2022-09-01T17:25:12.966937Z",
     "start_time": "2022-09-01T17:25:12.930786Z"
    }
   },
   "outputs": [
    {
     "name": "stdout",
     "output_type": "stream",
     "text": [
      "errors of the CDF representation\n",
      "\n",
      "RMSE = 2.095 (1/eV)\n",
      "%RMSE = 4.218%\n"
     ]
    }
   ],
   "source": [
    "print(\"errors of the CDF representation\")\n",
    "print()\n",
    "\n",
    "print(\"RMSE = {:.3f} (1/eV)\".format(get_rmse(ldos_pred_cdf[itest], ldos[itest], xdos, perc=False)))\n",
    "print(\"%RMSE = {:.3f}%\".format(get_rmse(ldos_pred_cdf[itest], ldos[itest], xdos, perc=True)))"
   ]
  },
  {
   "cell_type": "markdown",
   "id": "0534b883",
   "metadata": {},
   "source": [
    "# PC decomposition"
   ]
  },
  {
   "cell_type": "markdown",
   "id": "dc267f9b",
   "metadata": {},
   "source": [
    "We define the PC representation as the projection coefficients of the DOS(E) in basis made of the principal components of the DOS of the traning structure. Then we build a sparse GPR model for each projection coefficient. \n",
    "\n",
    "This representation is interesting because:\n",
    "1. the resulting ML DOS is always smooth because it is a linear combination of smooth functinos (the principal components)\n",
    "1. due to the truncation process, the effect on the DOS can be seen as extra smoothing"
   ]
  },
  {
   "cell_type": "code",
   "execution_count": 74,
   "id": "b844e465",
   "metadata": {
    "ExecuteTime": {
     "end_time": "2022-09-01T17:43:12.528570Z",
     "start_time": "2022-09-01T17:43:12.395521Z"
    }
   },
   "outputs": [
    {
     "name": "stdout",
     "output_type": "stream",
     "text": [
      "Variance covered with 10 PCs is = 0.9927075571696384\n"
     ]
    }
   ],
   "source": [
    "n_pc = 10 #number of componenets to keep\n",
    "_, doseve = build_pc(ldos[itrain], mean_pw[itrain], n_pc=n_pc)"
   ]
  },
  {
   "cell_type": "code",
   "execution_count": 75,
   "id": "9d9c5060",
   "metadata": {
    "ExecuteTime": {
     "end_time": "2022-09-01T17:43:12.723663Z",
     "start_time": "2022-09-01T17:43:12.687251Z"
    }
   },
   "outputs": [],
   "source": [
    "coeffs = build_coeffs(ldos - mean_pw, doseve)"
   ]
  },
  {
   "cell_type": "markdown",
   "id": "ef3f5fb3",
   "metadata": {},
   "source": [
    "notice the resuduals due to the truncation of the PCs"
   ]
  },
  {
   "cell_type": "code",
   "execution_count": 76,
   "id": "4ad84b0b",
   "metadata": {
    "ExecuteTime": {
     "end_time": "2022-09-01T17:43:13.380221Z",
     "start_time": "2022-09-01T17:43:13.354625Z"
    }
   },
   "outputs": [],
   "source": [
    "trunc_dos = build_truncated_dos(doseve,\n",
    "                                coeffs,\n",
    "                                #ldos[itrain].mean(axis=0),\n",
    "                                mean_pw,\n",
    "                                n_pc=n_pc)"
   ]
  },
  {
   "cell_type": "code",
   "execution_count": 77,
   "id": "f5735e55",
   "metadata": {
    "ExecuteTime": {
     "end_time": "2022-09-01T17:43:13.685351Z",
     "start_time": "2022-09-01T17:43:13.610125Z"
    }
   },
   "outputs": [
    {
     "data": {
      "text/plain": [
       "[<matplotlib.lines.Line2D at 0x2d6c960d0>]"
      ]
     },
     "execution_count": 77,
     "metadata": {},
     "output_type": "execute_result"
    },
    {
     "data": {
      "image/png": "[encoded data removed]",
      "text/plain": [
       "<Figure size 432x288 with 1 Axes>"
      ]
     },
     "metadata": {
      "needs_background": "light"
     },
     "output_type": "display_data"
    }
   ],
   "source": [
    "ii = -1\n",
    "\n",
    "plt.plot(ldos[ii])\n",
    "plt.plot(trunc_dos[ii])"
   ]
  },
  {
   "cell_type": "code",
   "execution_count": 78,
   "id": "a9114ec0",
   "metadata": {
    "ExecuteTime": {
     "end_time": "2022-09-01T17:43:19.240174Z",
     "start_time": "2022-09-01T17:43:19.200844Z"
    }
   },
   "outputs": [
    {
     "name": "stdout",
     "output_type": "stream",
     "text": [
      "truncation errors\n",
      "\n",
      "RMSE = 1.755 (1/eV)\n",
      "%RMSE = 3.445%\n"
     ]
    }
   ],
   "source": [
    "print(\"truncation errors\")\n",
    "print()\n",
    "print(\"RMSE = {:.3f} (1/eV)\".format(get_rmse(trunc_dos, ldos, xdos, perc=False)))\n",
    "print(\"%RMSE = {:.3f}%\".format(get_rmse(trunc_dos, ldos, xdos, perc=True)))"
   ]
  },
  {
   "cell_type": "code",
   "execution_count": 79,
   "id": "a006cd76",
   "metadata": {
    "ExecuteTime": {
     "end_time": "2022-09-01T17:45:27.271555Z",
     "start_time": "2022-09-01T17:43:20.990617Z"
    },
    "scrolled": true
   },
   "outputs": [
    {
     "data": {
      "application/vnd.jupyter.widget-view+json": {
       "model_id": "743e7146924d402b9284af1c5dfae900",
       "version_major": 2,
       "version_minor": 0
      },
      "text/plain": [
       "  0%|          | 0/10 [00:00<?, ?it/s]"
      ]
     },
     "metadata": {},
     "output_type": "display_data"
    },
    {
     "name": "stdout",
     "output_type": "stream",
     "text": [
      " final_simplex: (array([[-6.76384371],\n",
      "       [-6.90775528]]), array([2.47960203, 2.48371906]))\n",
      "           fun: 2.4796020336897406\n",
      "       message: 'Maximum number of iterations has been exceeded.'\n",
      "          nfev: 16\n",
      "           nit: 8\n",
      "        status: 2\n",
      "       success: False\n",
      "             x: array([-6.76384371])\n",
      "0.0011547819846894783\n",
      "(831,)\n",
      " final_simplex: (array([[-8.85056145],\n",
      "       [-8.88653934]]), array([14.96646475, 15.13867507]))\n",
      "           fun: 14.966464753603221\n",
      "       message: 'Maximum number of iterations has been exceeded.'\n",
      "          nfev: 17\n",
      "           nit: 8\n",
      "        status: 2\n",
      "       success: False\n",
      "             x: array([-8.85056145])\n",
      "0.00014330125702369747\n",
      "(831,)\n",
      " final_simplex: (array([[-11.72879282],\n",
      "       [-11.8007486 ]]), array([22.27113451, 22.30358034]))\n",
      "           fun: 22.27113450998837\n",
      "       message: 'Maximum number of iterations has been exceeded.'\n",
      "          nfev: 16\n",
      "           nit: 8\n",
      "        status: 2\n",
      "       success: False\n",
      "             x: array([-11.72879282])\n",
      "8.058421877614867e-06\n",
      "(831,)\n",
      " final_simplex: (array([[-9.85794243],\n",
      "       [-9.92989821]]), array([7.7081652 , 7.70975159]))\n",
      "           fun: 7.708165202533317\n",
      "       message: 'Maximum number of iterations has been exceeded.'\n",
      "          nfev: 16\n",
      "           nit: 8\n",
      "        status: 2\n",
      "       success: False\n",
      "             x: array([-9.85794243])\n",
      "5.232991146814975e-05\n",
      "(831,)\n",
      " final_simplex: (array([[-11.62085914],\n",
      "       [-11.62535638]]), array([25.58129398, 25.58440526]))\n",
      "           fun: 25.581293977263\n",
      "       message: 'Maximum number of iterations has been exceeded.'\n",
      "          nfev: 17\n",
      "           nit: 8\n",
      "        status: 2\n",
      "       success: False\n",
      "             x: array([-11.62085914])\n",
      "8.976871324473129e-06\n",
      "(831,)\n",
      " final_simplex: (array([[-9.64207508],\n",
      "       [-9.67805297]]), array([22.09661923, 22.0985968 ]))\n",
      "           fun: 22.096619229759014\n",
      "       message: 'Maximum number of iterations has been exceeded.'\n",
      "          nfev: 16\n",
      "           nit: 8\n",
      "        status: 2\n",
      "       success: False\n",
      "             x: array([-9.64207508])\n",
      "6.493816315762154e-05\n",
      "(831,)\n",
      " final_simplex: (array([[-10.4335887 ],\n",
      "       [-10.41559976]]), array([27.72253229, 27.72914048]))\n",
      "           fun: 27.722532287487944\n",
      "       message: 'Maximum number of iterations has been exceeded.'\n",
      "          nfev: 17\n",
      "           nit: 8\n",
      "        status: 2\n",
      "       success: False\n",
      "             x: array([-10.4335887])\n",
      "2.9427271762092943e-05\n",
      "(831,)\n",
      " final_simplex: (array([[-11.94466017],\n",
      "       [-11.94016293]]), array([27.49871481, 27.5152775 ]))\n",
      "           fun: 27.498714811087623\n",
      "       message: 'Maximum number of iterations has been exceeded.'\n",
      "          nfev: 17\n",
      "           nit: 8\n",
      "        status: 2\n",
      "       success: False\n",
      "             x: array([-11.94466017])\n",
      "6.493816315762112e-06\n",
      "(831,)\n",
      " final_simplex: (array([[-11.25208575],\n",
      "       [-11.24758851]]), array([38.79319223, 38.79445963]))\n",
      "           fun: 38.793192234700996\n",
      "       message: 'Maximum number of iterations has been exceeded.'\n",
      "          nfev: 17\n",
      "           nit: 8\n",
      "        status: 2\n",
      "       success: False\n",
      "             x: array([-11.25208575])\n",
      "1.2980195990183812e-05\n",
      "(831,)\n",
      " final_simplex: (array([[-12.7001959 ],\n",
      "       [-12.69120143]]), array([70.1743115 , 70.40885628]))\n",
      "           fun: 70.17431150300871\n",
      "       message: 'Maximum number of iterations has been exceeded.'\n",
      "          nfev: 18\n",
      "           nit: 8\n",
      "        status: 2\n",
      "       success: False\n",
      "             x: array([-12.7001959])\n",
      "3.0505278902670183e-06\n",
      "(831,)\n"
     ]
    }
   ],
   "source": [
    "weights_pc = []\n",
    "\n",
    "for i in tnrange(n_pc):\n",
    "    train_target = coeffs[:, i]\n",
    "    w = train_model(train_target[itrain], \n",
    "                      kNM[itrain], \n",
    "                      kMM, \n",
    "                      cv=2, \n",
    "                      xdos=None, \n",
    "                      maxiter=8, \n",
    "                      i_regularization=1e-5)\n",
    "    weights_pc.append(w)\n",
    "weights_pc = np.array(weights_pc)"
   ]
  },
  {
   "cell_type": "code",
   "execution_count": 81,
   "id": "6363a7fb",
   "metadata": {
    "ExecuteTime": {
     "end_time": "2022-09-01T17:45:34.462512Z",
     "start_time": "2022-09-01T17:45:34.405603Z"
    }
   },
   "outputs": [],
   "source": [
    "pred_coeffs = kNM @ weights_pc.T"
   ]
  },
  {
   "cell_type": "code",
   "execution_count": 82,
   "id": "7f1a8e7b",
   "metadata": {
    "ExecuteTime": {
     "end_time": "2022-09-01T17:45:37.550081Z",
     "start_time": "2022-09-01T17:45:37.514560Z"
    }
   },
   "outputs": [],
   "source": [
    "ldos_pred_pc = build_truncated_dos(doseve,\n",
    "                                pred_coeffs,\n",
    "                                mean_pw,\n",
    "                                n_pc=n_pc)"
   ]
  },
  {
   "cell_type": "code",
   "execution_count": 83,
   "id": "3e8d0c4f",
   "metadata": {
    "ExecuteTime": {
     "end_time": "2022-09-01T17:45:38.326132Z",
     "start_time": "2022-09-01T17:45:38.237140Z"
    }
   },
   "outputs": [
    {
     "data": {
      "image/png": "[encoded data removed]",
      "text/plain": [
       "<Figure size 432x288 with 1 Axes>"
      ]
     },
     "metadata": {
      "needs_background": "light"
     },
     "output_type": "display_data"
    }
   ],
   "source": [
    "ii = itest[1]\n",
    "plt.plot(xdos, ldos[ii], label=\"QM\")\n",
    "plt.plot(xdos, ldos_pred_pc[ii], \"k:\", label=\"ML from PC\")\n",
    "\n",
    "plt.xlabel(\"energy (eV)\")\n",
    "plt.ylabel(\"DOS\")\n",
    "\n",
    "plt.legend()\n",
    "plt.show()"
   ]
  },
  {
   "cell_type": "code",
   "execution_count": 84,
   "id": "10ebd398",
   "metadata": {
    "ExecuteTime": {
     "end_time": "2022-09-01T17:45:40.473365Z",
     "start_time": "2022-09-01T17:45:40.437052Z"
    }
   },
   "outputs": [
    {
     "name": "stdout",
     "output_type": "stream",
     "text": [
      "RMSE = 2.151\n",
      "%RMSE = 4.330%\n"
     ]
    }
   ],
   "source": [
    "print(\"RMSE = {:.3f}\".format(get_rmse(ldos_pred_pc[itest], ldos[itest], xdos, perc=False)))\n",
    "print(\"%RMSE = {:.3f}%\".format(get_rmse(ldos_pred_pc[itest], ldos[itest], xdos, perc=True)))"
   ]
  },
  {
   "cell_type": "markdown",
   "id": "c06b9d91",
   "metadata": {},
   "source": [
    "# Derived quantities"
   ]
  },
  {
   "cell_type": "markdown",
   "id": "1d2766ee",
   "metadata": {},
   "source": [
    "In this part, we propose to show how to build some derived quantities from the ML (L)DOS. Mainly, we will focus on:\n",
    "1. the chemical potential (or Fermi level) $\\mu$ at a temperature T: we obtain $\\mu$ from the charge neutrality condition: \n",
    "$$\\int \\mathrm{DOS}(E) f_{FD}(E, \\mu, T) \\mathrm{d}E = N_{el},$$\n",
    "where $f_{FD}(E, \\mu, T)$ is the Fermi-Dirac distribution and $N_{el}$ is the number of electrons in the system. <br></br>*NB: be careful when dealing with scaled and non-scaled DOS!*\n",
    "<br></br>\n",
    "1. the band energy $\\epsilon_b(T) = \\int E\\mathrm{DOS}(E) f_{FD}(E, \\mu, T)\\mathrm{d}E$\n",
    "<br></br>\n",
    "1. the value of the DOS at $\\mu$\n",
    "1. the distribution of the excitation $A(\\Delta) = \\int \\int\\mathrm{d}E \\mathrm{d}E^\\prime \\mathrm{DOS}(E) f_{FD}(E, \\mu, T=0) [\\mathrm{DOS}(E^\\prime) (1 - f_{FD}(E^\\prime, \\mu, T=0))] \\delta(E-E^\\prime-\\Delta)$\n",
    "1. **specific to ML DOS:** the local atomic charges: they are defined from the LDOS on each structure and using the global Fermi level of the structure:\n",
    "$$q(A_i) = N_{el} - \\int^\\mu \\mathrm{LDOS}(A_i, E) \\mathrm{d}E$$"
   ]
  },
  {
   "cell_type": "markdown",
   "id": "b28f1030",
   "metadata": {},
   "source": [
    "**NB:** In this notebook, and due to the numerical inaccuracies due to the integration of the Fermi-Dirac distribution at T=0, we use a small fictitious temperature T=200K, that is a good approximation of the T=0 behavior of the electrons"
   ]
  },
  {
   "cell_type": "markdown",
   "id": "503bbb0c",
   "metadata": {},
   "source": [
    "**NB:** In the following we show all the examples using the ML PW representation"
   ]
  },
  {
   "cell_type": "code",
   "execution_count": 30,
   "id": "71a3913d",
   "metadata": {
    "ExecuteTime": {
     "end_time": "2022-09-01T18:34:26.124660Z",
     "start_time": "2022-09-01T18:34:26.092192Z"
    }
   },
   "outputs": [],
   "source": [
    "T_0 = 200\n",
    "beta_0 = 1 / (ase.units.kB * T_0) # inverse temperature"
   ]
  },
  {
   "cell_type": "code",
   "execution_count": 31,
   "id": "19e68f31",
   "metadata": {
    "ExecuteTime": {
     "end_time": "2022-09-01T18:34:26.143820Z",
     "start_time": "2022-09-01T18:34:26.126891Z"
    }
   },
   "outputs": [],
   "source": [
    "# number of electrons in each srtucture\n",
    "Nel = np.zeros(len(ldos))\n",
    "nel = 4. # number of valence electrons of silicon per atom\n",
    "for j in range(len(Nel)):\n",
    "    Nel[j] = nel * scaling_mean[j]"
   ]
  },
  {
   "cell_type": "code",
   "execution_count": 32,
   "id": "e79009ac",
   "metadata": {
    "ExecuteTime": {
     "end_time": "2022-09-01T18:34:26.450371Z",
     "start_time": "2022-09-01T18:34:26.144923Z"
    }
   },
   "outputs": [
    {
     "data": {
      "application/vnd.jupyter.widget-view+json": {
       "model_id": "05761db3548e486daa28a4a90d556542",
       "version_major": 2,
       "version_minor": 0
      },
      "text/plain": [
       "  0%|          | 0/1039 [00:00<?, ?it/s]"
      ]
     },
     "metadata": {},
     "output_type": "display_data"
    }
   ],
   "source": [
    "# Fermi level\n",
    "efermi = np.zeros(ntot)\n",
    "for i in tnrange(ntot):\n",
    "    efermi[i] = getmu(ldos_pred_pw[i], beta_0, xdos, n=Nel[i])"
   ]
  },
  {
   "cell_type": "code",
   "execution_count": 33,
   "id": "02e90843",
   "metadata": {
    "ExecuteTime": {
     "end_time": "2022-09-01T18:34:30.599061Z",
     "start_time": "2022-09-01T18:34:30.529818Z"
    }
   },
   "outputs": [
    {
     "data": {
      "application/vnd.jupyter.widget-view+json": {
       "model_id": "10afa7abec4145c683f23da651a66ee5",
       "version_major": 2,
       "version_minor": 0
      },
      "text/plain": [
       "  0%|          | 0/1039 [00:00<?, ?it/s]"
      ]
     },
     "metadata": {},
     "output_type": "display_data"
    }
   ],
   "source": [
    "## band energy at Tel = 0K\n",
    "eband = np.zeros(ntot)\n",
    "for i in tnrange(ntot):\n",
    "    eband[i] = get_band_energy(ldos_pred_pw[i], efermi[i], xdos, beta_0)"
   ]
  },
  {
   "cell_type": "code",
   "execution_count": 34,
   "id": "ad142639",
   "metadata": {
    "ExecuteTime": {
     "end_time": "2022-09-01T18:34:31.921211Z",
     "start_time": "2022-09-01T18:34:31.862507Z"
    }
   },
   "outputs": [],
   "source": [
    "## the value of the DOS at the Fermi level\n",
    "dosfermi = np.zeros(ntot)\n",
    "for i in range(ntot):\n",
    "    dosfermi[i] = get_dos_fermi(ldos_pred_pw[i], efermi[i], xdos)"
   ]
  },
  {
   "cell_type": "code",
   "execution_count": 37,
   "id": "095fa85d",
   "metadata": {
    "ExecuteTime": {
     "end_time": "2022-09-01T18:34:59.443043Z",
     "start_time": "2022-09-01T18:34:59.378247Z"
    }
   },
   "outputs": [
    {
     "ename": "ValueError",
     "evalue": "setting an array element with a sequence. The requested array would exceed the maximum number of dimension of 1.",
     "output_type": "error",
     "traceback": [
      "\u001b[0;31m---------------------------------------------------------------------------\u001b[0m",
      "\u001b[0;31mValueError\u001b[0m                                Traceback (most recent call last)",
      "Input \u001b[0;32mIn [37]\u001b[0m, in \u001b[0;36m<cell line: 3>\u001b[0;34m()\u001b[0m\n\u001b[1;32m      2\u001b[0m aofd \u001b[38;5;241m=\u001b[39m np\u001b[38;5;241m.\u001b[39mzeros(ldos\u001b[38;5;241m.\u001b[39mshape)\n\u001b[1;32m      3\u001b[0m \u001b[38;5;28;01mfor\u001b[39;00m i \u001b[38;5;129;01min\u001b[39;00m \u001b[38;5;28mrange\u001b[39m(ntot):\n\u001b[0;32m----> 4\u001b[0m     aofd[i] \u001b[38;5;241m=\u001b[39m get_aofd(ldos_pred_pw[i], efermi[i], xdos, beta_0)\n",
      "\u001b[0;31mValueError\u001b[0m: setting an array element with a sequence. The requested array would exceed the maximum number of dimension of 1."
     ]
    }
   ],
   "source": [
    "## distribution of the excitations\n",
    "aofd = np.zeros(ldos.shape)\n",
    "for i in range(ntot):\n",
    "    aofd[i] = get_aofd(ldos_pred_pw[i], efermi[i], xdos, beta_0)"
   ]
  },
  {
   "cell_type": "markdown",
   "id": "c7218e3e",
   "metadata": {},
   "source": [
    "The local charges are defined from the LDOS. In order to obtain the LDOS, let's recall the expression of the ML DOS and how it relates to the LDOS:\n",
    "$$\\mathrm{DOS}(E) = \\mathbf{x}(E) k(A, M),$$\n",
    "where \n",
    "$$k(A, M) = \\sum_{A_i \\in A} k(A_i, M).$$\n",
    "So, we can write the LDOS as a function of the same regression weights as the DOS:\n",
    "$$\\mathrm{LDOS}(A_i, E) = \\mathbf{x}(E) k(A_i, M).$$\n",
    "The $k(A_i, M)$ can be obtained easily from the ``Kernel`` module of ``librascal``. "
   ]
  },
  {
   "cell_type": "code",
   "execution_count": 38,
   "id": "132e3dac",
   "metadata": {
    "ExecuteTime": {
     "end_time": "2022-09-01T18:35:14.486017Z",
     "start_time": "2022-09-01T18:35:14.454131Z"
    }
   },
   "outputs": [],
   "source": [
    "k_ai = Kernel(soap,\n",
    "                name=\"GAP\",\n",
    "                kernel_type=\"Sparse\",\n",
    "                target_type=\"Atom\",\n",
    "                zeta=zeta)"
   ]
  },
  {
   "cell_type": "code",
   "execution_count": 39,
   "id": "0f094e23",
   "metadata": {
    "ExecuteTime": {
     "end_time": "2022-09-01T18:35:17.288932Z",
     "start_time": "2022-09-01T18:35:15.173259Z"
    }
   },
   "outputs": [],
   "source": [
    "local_kernels = k_ai(managers, X_sparse, grad=(False, False))"
   ]
  },
  {
   "cell_type": "markdown",
   "id": "d692984c",
   "metadata": {},
   "source": [
    "``local_kernels`` contains all the local kernels $k(A_i, M)$ present in the dataset"
   ]
  },
  {
   "cell_type": "code",
   "execution_count": 44,
   "id": "b356b086",
   "metadata": {
    "ExecuteTime": {
     "end_time": "2022-09-01T18:36:30.974044Z",
     "start_time": "2022-09-01T18:36:29.513492Z"
    }
   },
   "outputs": [],
   "source": [
    "LDOS = [] \n",
    "k = 0\n",
    "for i in range(ntot):\n",
    "    LDOS.append(local_kernels[k: k+ natoms[i]] @ weights_pw + mean_pw[i] / scaling_mean[i])\n",
    "    k += natoms[i]"
   ]
  },
  {
   "cell_type": "code",
   "execution_count": 52,
   "id": "6bc61626",
   "metadata": {
    "ExecuteTime": {
     "end_time": "2022-09-01T18:45:27.936963Z",
     "start_time": "2022-09-01T18:45:27.846729Z"
    }
   },
   "outputs": [
    {
     "data": {
      "text/plain": [
       "<matplotlib.legend.Legend at 0x2f4bf3c70>"
      ]
     },
     "execution_count": 52,
     "metadata": {},
     "output_type": "execute_result"
    },
    {
     "data": {
      "image/png": "[encoded data removed]",
      "text/plain": [
       "<Figure size 432x288 with 1 Axes>"
      ]
     },
     "metadata": {
      "needs_background": "light"
     },
     "output_type": "display_data"
    }
   ],
   "source": [
    "ii = 0\n",
    "plt.plot(xdos, LDOS[ii].sum(axis=0), label=\"sum of LDOS\")\n",
    "plt.plot(xdos, ldos[ii], label=\"DOS\")\n",
    "\n",
    "plt.legend()"
   ]
  },
  {
   "cell_type": "code",
   "execution_count": 54,
   "id": "0d55e0f3",
   "metadata": {
    "ExecuteTime": {
     "end_time": "2022-09-01T18:49:40.593807Z",
     "start_time": "2022-09-01T18:49:40.456372Z"
    }
   },
   "outputs": [],
   "source": [
    "local_charges = []\n",
    "for i in range(ntot):\n",
    "    local_charges.append(get_charge(LDOS[i], efermi[i], xdos, beta_0, nel))"
   ]
  },
  {
   "cell_type": "markdown",
   "id": "01d1b036",
   "metadata": {},
   "source": [
    "Don't forget to visualize the local charges! You can use ``Chemiscope`` to do so!"
   ]
  },
  {
   "cell_type": "code",
   "execution_count": null,
   "id": "a5552003",
   "metadata": {},
   "outputs": [],
   "source": []
  }
 ],
 "metadata": {
  "kernelspec": {
   "display_name": "Python 3 (ipykernel)",
   "language": "python",
   "name": "python3"
  },
  "language_info": {
   "codemirror_mode": {
    "name": "ipython",
    "version": 3
   },
   "file_extension": ".py",
   "mimetype": "text/x-python",
   "name": "python",
   "nbconvert_exporter": "python",
   "pygments_lexer": "ipython3",
   "version": "3.9.13"
  },
  "latex_envs": {
   "LaTeX_envs_menu_present": true,
   "autoclose": false,
   "autocomplete": true,
   "bibliofile": "biblio.bib",
   "cite_by": "apalike",
   "current_citInitial": 1,
   "eqLabelWithNumbers": true,
   "eqNumInitial": 1,
   "hotkeys": {
    "equation": "Ctrl-E",
    "itemize": "Ctrl-I"
   },
   "labels_anchors": false,
   "latex_user_defs": false,
   "report_style_numbering": false,
   "user_envs_cfg": false
  },
  "toc": {
   "base_numbering": 1,
   "nav_menu": {},
   "number_sections": true,
   "sideBar": true,
   "skip_h1_title": false,
   "title_cell": "Table of Contents",
   "title_sidebar": "Contents",
   "toc_cell": false,
   "toc_position": {},
   "toc_section_display": true,
   "toc_window_display": false
  }
 },
 "nbformat": 4,
 "nbformat_minor": 5
}
